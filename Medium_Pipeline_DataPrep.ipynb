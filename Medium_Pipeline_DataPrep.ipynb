{
 "cells": [
  {
   "cell_type": "markdown",
   "metadata": {},
   "source": [
    "## 2019 Property Assessment Dataset\n",
    "\n",
    "### Dataset link: https://data.boston.gov/dataset/property-assessment"
   ]
  },
  {
   "cell_type": "code",
   "execution_count": 110,
   "metadata": {},
   "outputs": [],
   "source": [
    "# Load Libra\n",
    "import numpy as np\n",
    "import pandas as pd\n",
    "import matplotlib.pyplot as plt\n",
    "\n",
    "from sklearn.impute import SimpleImputer\n",
    "from sklearn.preprocessing import FunctionTransformer\n",
    "from sklearn.preprocessing import MinMaxScaler\n",
    "from sklearn.pipeline import Pipeline\n",
    "from sklearn.preprocessing import StandardScaler, OneHotEncoder\n",
    "from sklearn.compose import ColumnTransformer"
   ]
  },
  {
   "cell_type": "code",
   "execution_count": 111,
   "metadata": {},
   "outputs": [
    {
     "name": "stderr",
     "output_type": "stream",
     "text": [
      "C:\\Users\\AnalyticsStudent\\new\\anaconda3\\lib\\site-packages\\IPython\\core\\interactiveshell.py:3071: DtypeWarning: Columns (15,60) have mixed types.Specify dtype option on import or set low_memory=False.\n",
      "  has_raised = await self.run_ast_nodes(code_ast.body, cell_name,\n"
     ]
    }
   ],
   "source": [
    "# Read in the Boston Property dataset. Make sure to specified file location.\n",
    "data = pd.read_csv('C:/ISTM615/ISTM601/Project/fy19fullpropassess.csv')\n"
   ]
  },
  {
   "cell_type": "code",
   "execution_count": 112,
   "metadata": {},
   "outputs": [
    {
     "data": {
      "text/plain": [
       "(174668, 75)"
      ]
     },
     "execution_count": 112,
     "metadata": {},
     "output_type": "execute_result"
    }
   ],
   "source": [
    "data.shape"
   ]
  },
  {
   "cell_type": "markdown",
   "metadata": {},
   "source": [
    "## Pipleline to select rows required for analysis"
   ]
  },
  {
   "cell_type": "code",
   "execution_count": 114,
   "metadata": {},
   "outputs": [],
   "source": [
    "def select_rows(df):\n",
    "    df = data[data['PTYPE']== 101]\n",
    "    return df"
   ]
  },
  {
   "cell_type": "code",
   "execution_count": 115,
   "metadata": {},
   "outputs": [],
   "source": [
    "\n",
    "\n",
    "ft = FunctionTransformer(select_rows)\n",
    "select_pipeline = Pipeline([('ft',ft)])"
   ]
  },
  {
   "cell_type": "code",
   "execution_count": 116,
   "metadata": {},
   "outputs": [],
   "source": [
    "data_1 = select_pipeline.fit_transform(data)\n",
    "\n"
   ]
  },
  {
   "cell_type": "markdown",
   "metadata": {},
   "source": [
    "## Prepare Numerical Variable"
   ]
  },
  {
   "cell_type": "code",
   "execution_count": 96,
   "metadata": {},
   "outputs": [],
   "source": [
    "sicn = SimpleImputer(missing_values=np.nan, strategy='mean')\n",
    "\n",
    "num_pipeline = Pipeline([('sicn',sicn)])\n",
    "\n"
   ]
  },
  {
   "cell_type": "code",
   "execution_count": null,
   "metadata": {},
   "outputs": [],
   "source": [
    "df_num = data[['LIVING_AREA','NUM_FLOORS','R_TOTAL_RMS' ,'R_BDRMS','R_FULL_BTH' ,'R_HALF_BTH' ,'R_FPLACE']]\n",
    "\n",
    "df_num_tr = num_pipeline.fit_transform(df_num)"
   ]
  },
  {
   "cell_type": "markdown",
   "metadata": {},
   "source": [
    "## Prepare Categorical variable"
   ]
  },
  {
   "cell_type": "code",
   "execution_count": 98,
   "metadata": {},
   "outputs": [],
   "source": [
    "# impute missing values with Mode\n",
    "sic = SimpleImputer(missing_values=np.nan, strategy='most_frequent')\n",
    "# Onehot Encoding\n",
    "ohe = OneHotEncoder()\n",
    "\n",
    "# Categorical pipeline.\n",
    "cat_pipeline = Pipeline([('sic',sic),('ohe', ohe) ])"
   ]
  },
  {
   "cell_type": "code",
   "execution_count": null,
   "metadata": {},
   "outputs": [],
   "source": []
  },
  {
   "cell_type": "code",
   "execution_count": null,
   "metadata": {},
   "outputs": [],
   "source": [
    "#Select categorical columns to be transformed.\n",
    "df_cat = data[['STRUCTURE_CLASS','R_BLDG_STYL','R_ROOF_TYP','R_EXT_FIN',\n",
    "                 'R_HEAT_TYP','R_AC','R_EXT_CND','R_OVRALL_CND','R_INT_CND','R_INT_FIN','R_VIEW',]]\n",
    "\n",
    "# test Categorical B\n",
    "df_cat_tr = cat_pipeline.fit_transform(df_cat)"
   ]
  },
  {
   "cell_type": "markdown",
   "metadata": {},
   "source": [
    "## Prepare Categorical variable : Kitchen and Bath"
   ]
  },
  {
   "cell_type": "code",
   "execution_count": 101,
   "metadata": {},
   "outputs": [],
   "source": [
    "def to_object(x):\n",
    "  return pd.DataFrame(x).astype('category')"
   ]
  },
  {
   "cell_type": "code",
   "execution_count": 102,
   "metadata": {},
   "outputs": [],
   "source": [
    "# Covert all variales to Object\n",
    "ft = FunctionTransformer(to_object)\n",
    "#Impute Missing values with 'NA'\n",
    "sic_1 = SimpleImputer(missing_values=np.nan, fill_value = 'NA',strategy='constant')\n",
    "#Onehot Encoding\n",
    "ohe_1 = OneHotEncoder()\n",
    "styles_pipeline = Pipeline([('ft',ft),('sic',sic_1),('ohe', ohe_1) ])"
   ]
  },
  {
   "cell_type": "code",
   "execution_count": null,
   "metadata": {},
   "outputs": [],
   "source": [
    "#Select Kitchen and Bath style variables\n",
    "df_styles = data[['R_BTH_STYLE','R_BTH_STYLE2','R_BTH_STYLE3','R_KITCH_STYLE','R_KITCH_STYLE2','R_KITCH_STYLE3']]\n",
    "# test Categorical pipeline\n",
    "styles_pipeline.fit_transform(df_styles)"
   ]
  },
  {
   "cell_type": "code",
   "execution_count": 103,
   "metadata": {},
   "outputs": [],
   "source": [
    "# Convert inputs to python into a list\n",
    "num_attribs = list(df_num)\n",
    "styles_attribs = list(df_styles)\n",
    "cat_attribs = list(df_cat)"
   ]
  },
  {
   "cell_type": "code",
   "execution_count": 105,
   "metadata": {
    "scrolled": true
   },
   "outputs": [],
   "source": [
    "## = ColumnTransformer([\n",
    "        (\"num\", #num_pipeline, num_attribs),\n",
    "    (\"styles\", styles_pipeline, styles_attribs),\n",
    "        (\"cat\", cat_pipeline, cat_attribs),\n",
    "        \n",
    "    ])"
   ]
  },
  {
   "cell_type": "code",
   "execution_count": null,
   "metadata": {},
   "outputs": [],
   "source": [
    "#Test the pipeline\n",
    "df_prepared = full_pipeline.fit_transform(data_1)"
   ]
  },
  {
   "cell_type": "code",
   "execution_count": null,
   "metadata": {},
   "outputs": [],
   "source": [
    "df_prepared"
   ]
  },
  {
   "cell_type": "code",
   "execution_count": 106,
   "metadata": {},
   "outputs": [
    {
     "name": "stderr",
     "output_type": "stream",
     "text": [
      "C:\\Users\\AnalyticsStudent\\new\\anaconda3\\lib\\site-packages\\IPython\\core\\interactiveshell.py:3071: DtypeWarning: Columns (6,15,27,28,29,34,35,36,37,38,39,40,41,42,44,45,46,47,48,58,59,64,65,66,67,68,69,70,72,73,74) have mixed types.Specify dtype option on import or set low_memory=False.\n",
      "  has_raised = await self.run_ast_nodes(code_ast.body, cell_name,\n"
     ]
    }
   ],
   "source": [
    "# Read 2020 Property housing data\n",
    "data20 = pd.read_csv('C:/ISTM615/ISTM601/Project/fy20fullpropassess.csv')\n",
    "data20.shape"
   ]
  },
  {
   "cell_type": "code",
   "execution_count": 107,
   "metadata": {},
   "outputs": [
    {
     "data": {
      "text/html": [
       "<div>\n",
       "<style scoped>\n",
       "    .dataframe tbody tr th:only-of-type {\n",
       "        vertical-align: middle;\n",
       "    }\n",
       "\n",
       "    .dataframe tbody tr th {\n",
       "        vertical-align: top;\n",
       "    }\n",
       "\n",
       "    .dataframe thead th {\n",
       "        text-align: right;\n",
       "    }\n",
       "</style>\n",
       "<table border=\"1\" class=\"dataframe\">\n",
       "  <thead>\n",
       "    <tr style=\"text-align: right;\">\n",
       "      <th></th>\n",
       "      <th>PID</th>\n",
       "      <th>CM_ID</th>\n",
       "      <th>GIS_ID</th>\n",
       "      <th>ST_NUM</th>\n",
       "      <th>ST_NAME</th>\n",
       "      <th>ST_NAME_SUF</th>\n",
       "      <th>UNIT_NUM</th>\n",
       "      <th>ZIPCODE</th>\n",
       "      <th>PTYPE</th>\n",
       "      <th>LU</th>\n",
       "      <th>...</th>\n",
       "      <th>U_BTH_STYLE2</th>\n",
       "      <th>U_BTH_STYLE3</th>\n",
       "      <th>U_KITCH_TYPE</th>\n",
       "      <th>U_KITCH_STYLE</th>\n",
       "      <th>U_HEAT_TYP</th>\n",
       "      <th>U_AC</th>\n",
       "      <th>U_FPLACE</th>\n",
       "      <th>U_INT_FIN</th>\n",
       "      <th>U_INT_CND</th>\n",
       "      <th>U_VIEW</th>\n",
       "    </tr>\n",
       "  </thead>\n",
       "  <tbody>\n",
       "    <tr>\n",
       "      <th>25</th>\n",
       "      <td>502555000</td>\n",
       "      <td>NaN</td>\n",
       "      <td>502555000</td>\n",
       "      <td>2</td>\n",
       "      <td>BEAVER</td>\n",
       "      <td>ST</td>\n",
       "      <td>NaN</td>\n",
       "      <td>2108.0</td>\n",
       "      <td>101</td>\n",
       "      <td>R1</td>\n",
       "      <td>...</td>\n",
       "      <td>NaN</td>\n",
       "      <td>NaN</td>\n",
       "      <td>NaN</td>\n",
       "      <td>NaN</td>\n",
       "      <td>NaN</td>\n",
       "      <td>NaN</td>\n",
       "      <td>NaN</td>\n",
       "      <td>NaN</td>\n",
       "      <td>NaN</td>\n",
       "      <td>NaN</td>\n",
       "    </tr>\n",
       "    <tr>\n",
       "      <th>80</th>\n",
       "      <td>100021000</td>\n",
       "      <td>NaN</td>\n",
       "      <td>100021000</td>\n",
       "      <td>243 HF</td>\n",
       "      <td>LEXINGTON</td>\n",
       "      <td>ST</td>\n",
       "      <td>NaN</td>\n",
       "      <td>2128.0</td>\n",
       "      <td>101</td>\n",
       "      <td>R1</td>\n",
       "      <td>...</td>\n",
       "      <td>NaN</td>\n",
       "      <td>NaN</td>\n",
       "      <td>NaN</td>\n",
       "      <td>NaN</td>\n",
       "      <td>NaN</td>\n",
       "      <td>NaN</td>\n",
       "      <td>NaN</td>\n",
       "      <td>NaN</td>\n",
       "      <td>NaN</td>\n",
       "      <td>NaN</td>\n",
       "    </tr>\n",
       "    <tr>\n",
       "      <th>86</th>\n",
       "      <td>100027000</td>\n",
       "      <td>NaN</td>\n",
       "      <td>100027000</td>\n",
       "      <td>33</td>\n",
       "      <td>PRESCOTT</td>\n",
       "      <td>ST</td>\n",
       "      <td>NaN</td>\n",
       "      <td>2128.0</td>\n",
       "      <td>101</td>\n",
       "      <td>R1</td>\n",
       "      <td>...</td>\n",
       "      <td>NaN</td>\n",
       "      <td>NaN</td>\n",
       "      <td>NaN</td>\n",
       "      <td>NaN</td>\n",
       "      <td>NaN</td>\n",
       "      <td>NaN</td>\n",
       "      <td>NaN</td>\n",
       "      <td>NaN</td>\n",
       "      <td>NaN</td>\n",
       "      <td>NaN</td>\n",
       "    </tr>\n",
       "    <tr>\n",
       "      <th>92</th>\n",
       "      <td>100033000</td>\n",
       "      <td>NaN</td>\n",
       "      <td>100033000</td>\n",
       "      <td>246</td>\n",
       "      <td>PRINCETON</td>\n",
       "      <td>ST</td>\n",
       "      <td>NaN</td>\n",
       "      <td>2128.0</td>\n",
       "      <td>101</td>\n",
       "      <td>R1</td>\n",
       "      <td>...</td>\n",
       "      <td>NaN</td>\n",
       "      <td>NaN</td>\n",
       "      <td>NaN</td>\n",
       "      <td>NaN</td>\n",
       "      <td>NaN</td>\n",
       "      <td>NaN</td>\n",
       "      <td>NaN</td>\n",
       "      <td>NaN</td>\n",
       "      <td>NaN</td>\n",
       "      <td>NaN</td>\n",
       "    </tr>\n",
       "    <tr>\n",
       "      <th>101</th>\n",
       "      <td>100041000</td>\n",
       "      <td>NaN</td>\n",
       "      <td>100041000</td>\n",
       "      <td>224</td>\n",
       "      <td>PRINCETON</td>\n",
       "      <td>ST</td>\n",
       "      <td>NaN</td>\n",
       "      <td>2128.0</td>\n",
       "      <td>101</td>\n",
       "      <td>R1</td>\n",
       "      <td>...</td>\n",
       "      <td>NaN</td>\n",
       "      <td>NaN</td>\n",
       "      <td>NaN</td>\n",
       "      <td>NaN</td>\n",
       "      <td>NaN</td>\n",
       "      <td>NaN</td>\n",
       "      <td>NaN</td>\n",
       "      <td>NaN</td>\n",
       "      <td>NaN</td>\n",
       "      <td>NaN</td>\n",
       "    </tr>\n",
       "    <tr>\n",
       "      <th>...</th>\n",
       "      <td>...</td>\n",
       "      <td>...</td>\n",
       "      <td>...</td>\n",
       "      <td>...</td>\n",
       "      <td>...</td>\n",
       "      <td>...</td>\n",
       "      <td>...</td>\n",
       "      <td>...</td>\n",
       "      <td>...</td>\n",
       "      <td>...</td>\n",
       "      <td>...</td>\n",
       "      <td>...</td>\n",
       "      <td>...</td>\n",
       "      <td>...</td>\n",
       "      <td>...</td>\n",
       "      <td>...</td>\n",
       "      <td>...</td>\n",
       "      <td>...</td>\n",
       "      <td>...</td>\n",
       "      <td>...</td>\n",
       "      <td>...</td>\n",
       "    </tr>\n",
       "    <tr>\n",
       "      <th>174650</th>\n",
       "      <td>2205658000</td>\n",
       "      <td>NaN</td>\n",
       "      <td>2205658000</td>\n",
       "      <td>2</td>\n",
       "      <td>CALTHA</td>\n",
       "      <td>RD</td>\n",
       "      <td>NaN</td>\n",
       "      <td>2135.0</td>\n",
       "      <td>101</td>\n",
       "      <td>R1</td>\n",
       "      <td>...</td>\n",
       "      <td>NaN</td>\n",
       "      <td>NaN</td>\n",
       "      <td>NaN</td>\n",
       "      <td>NaN</td>\n",
       "      <td>NaN</td>\n",
       "      <td>NaN</td>\n",
       "      <td>NaN</td>\n",
       "      <td>NaN</td>\n",
       "      <td>NaN</td>\n",
       "      <td>NaN</td>\n",
       "    </tr>\n",
       "    <tr>\n",
       "      <th>174652</th>\n",
       "      <td>2205660000</td>\n",
       "      <td>NaN</td>\n",
       "      <td>2205660000</td>\n",
       "      <td>30</td>\n",
       "      <td>LAKE</td>\n",
       "      <td>ST</td>\n",
       "      <td>NaN</td>\n",
       "      <td>2135.0</td>\n",
       "      <td>101</td>\n",
       "      <td>R1</td>\n",
       "      <td>...</td>\n",
       "      <td>NaN</td>\n",
       "      <td>NaN</td>\n",
       "      <td>NaN</td>\n",
       "      <td>NaN</td>\n",
       "      <td>NaN</td>\n",
       "      <td>NaN</td>\n",
       "      <td>NaN</td>\n",
       "      <td>NaN</td>\n",
       "      <td>NaN</td>\n",
       "      <td>NaN</td>\n",
       "    </tr>\n",
       "    <tr>\n",
       "      <th>174653</th>\n",
       "      <td>2205662010</td>\n",
       "      <td>NaN</td>\n",
       "      <td>2205662010</td>\n",
       "      <td>26</td>\n",
       "      <td>LAKE</td>\n",
       "      <td>ST</td>\n",
       "      <td>NaN</td>\n",
       "      <td>2135.0</td>\n",
       "      <td>101</td>\n",
       "      <td>R1</td>\n",
       "      <td>...</td>\n",
       "      <td>NaN</td>\n",
       "      <td>NaN</td>\n",
       "      <td>NaN</td>\n",
       "      <td>NaN</td>\n",
       "      <td>NaN</td>\n",
       "      <td>NaN</td>\n",
       "      <td>NaN</td>\n",
       "      <td>NaN</td>\n",
       "      <td>NaN</td>\n",
       "      <td>NaN</td>\n",
       "    </tr>\n",
       "    <tr>\n",
       "      <th>174655</th>\n",
       "      <td>2205663000</td>\n",
       "      <td>NaN</td>\n",
       "      <td>2205663000</td>\n",
       "      <td>22</td>\n",
       "      <td>LAKE</td>\n",
       "      <td>ST</td>\n",
       "      <td>NaN</td>\n",
       "      <td>2135.0</td>\n",
       "      <td>101</td>\n",
       "      <td>R1</td>\n",
       "      <td>...</td>\n",
       "      <td>NaN</td>\n",
       "      <td>NaN</td>\n",
       "      <td>NaN</td>\n",
       "      <td>NaN</td>\n",
       "      <td>NaN</td>\n",
       "      <td>NaN</td>\n",
       "      <td>NaN</td>\n",
       "      <td>NaN</td>\n",
       "      <td>NaN</td>\n",
       "      <td>NaN</td>\n",
       "    </tr>\n",
       "    <tr>\n",
       "      <th>174656</th>\n",
       "      <td>2205663001</td>\n",
       "      <td>NaN</td>\n",
       "      <td>2205663001</td>\n",
       "      <td>20</td>\n",
       "      <td>LAKE</td>\n",
       "      <td>ST</td>\n",
       "      <td>NaN</td>\n",
       "      <td>2135.0</td>\n",
       "      <td>101</td>\n",
       "      <td>R1</td>\n",
       "      <td>...</td>\n",
       "      <td>NaN</td>\n",
       "      <td>NaN</td>\n",
       "      <td>NaN</td>\n",
       "      <td>NaN</td>\n",
       "      <td>NaN</td>\n",
       "      <td>NaN</td>\n",
       "      <td>NaN</td>\n",
       "      <td>NaN</td>\n",
       "      <td>NaN</td>\n",
       "      <td>NaN</td>\n",
       "    </tr>\n",
       "  </tbody>\n",
       "</table>\n",
       "<p>30568 rows × 75 columns</p>\n",
       "</div>"
      ],
      "text/plain": [
       "               PID  CM_ID      GIS_ID  ST_NUM    ST_NAME ST_NAME_SUF UNIT_NUM  \\\n",
       "25       502555000    NaN   502555000       2     BEAVER          ST      NaN   \n",
       "80       100021000    NaN   100021000  243 HF  LEXINGTON          ST      NaN   \n",
       "86       100027000    NaN   100027000      33   PRESCOTT          ST      NaN   \n",
       "92       100033000    NaN   100033000     246  PRINCETON          ST      NaN   \n",
       "101      100041000    NaN   100041000     224  PRINCETON          ST      NaN   \n",
       "...            ...    ...         ...     ...        ...         ...      ...   \n",
       "174650  2205658000    NaN  2205658000       2     CALTHA          RD      NaN   \n",
       "174652  2205660000    NaN  2205660000      30       LAKE          ST      NaN   \n",
       "174653  2205662010    NaN  2205662010      26       LAKE          ST      NaN   \n",
       "174655  2205663000    NaN  2205663000      22       LAKE          ST      NaN   \n",
       "174656  2205663001    NaN  2205663001      20       LAKE          ST      NaN   \n",
       "\n",
       "        ZIPCODE  PTYPE  LU  ... U_BTH_STYLE2 U_BTH_STYLE3 U_KITCH_TYPE  \\\n",
       "25       2108.0    101  R1  ...          NaN          NaN          NaN   \n",
       "80       2128.0    101  R1  ...          NaN          NaN          NaN   \n",
       "86       2128.0    101  R1  ...          NaN          NaN          NaN   \n",
       "92       2128.0    101  R1  ...          NaN          NaN          NaN   \n",
       "101      2128.0    101  R1  ...          NaN          NaN          NaN   \n",
       "...         ...    ...  ..  ...          ...          ...          ...   \n",
       "174650   2135.0    101  R1  ...          NaN          NaN          NaN   \n",
       "174652   2135.0    101  R1  ...          NaN          NaN          NaN   \n",
       "174653   2135.0    101  R1  ...          NaN          NaN          NaN   \n",
       "174655   2135.0    101  R1  ...          NaN          NaN          NaN   \n",
       "174656   2135.0    101  R1  ...          NaN          NaN          NaN   \n",
       "\n",
       "       U_KITCH_STYLE U_HEAT_TYP U_AC  U_FPLACE  U_INT_FIN  U_INT_CND  U_VIEW  \n",
       "25               NaN        NaN  NaN       NaN        NaN        NaN     NaN  \n",
       "80               NaN        NaN  NaN       NaN        NaN        NaN     NaN  \n",
       "86               NaN        NaN  NaN       NaN        NaN        NaN     NaN  \n",
       "92               NaN        NaN  NaN       NaN        NaN        NaN     NaN  \n",
       "101              NaN        NaN  NaN       NaN        NaN        NaN     NaN  \n",
       "...              ...        ...  ...       ...        ...        ...     ...  \n",
       "174650           NaN        NaN  NaN       NaN        NaN        NaN     NaN  \n",
       "174652           NaN        NaN  NaN       NaN        NaN        NaN     NaN  \n",
       "174653           NaN        NaN  NaN       NaN        NaN        NaN     NaN  \n",
       "174655           NaN        NaN  NaN       NaN        NaN        NaN     NaN  \n",
       "174656           NaN        NaN  NaN       NaN        NaN        NaN     NaN  \n",
       "\n",
       "[30568 rows x 75 columns]"
      ]
     },
     "execution_count": 107,
     "metadata": {},
     "output_type": "execute_result"
    }
   ],
   "source": [
    "# Prepare the data for Analysis using Pipeline.\n",
    "data_20_1  = select_pipeline.fit_transform(data20)\n",
    "data_20_1"
   ]
  },
  {
   "cell_type": "code",
   "execution_count": 108,
   "metadata": {},
   "outputs": [],
   "source": [
    "# pass 2020 housing data trough full pipeline\n",
    "df_prep_2 = full_pipeline.fit_transform(data_20_1)"
   ]
  },
  {
   "cell_type": "code",
   "execution_count": 109,
   "metadata": {},
   "outputs": [
    {
     "data": {
      "text/plain": [
       "<30568x109 sparse matrix of type '<class 'numpy.float64'>'\n",
       "\twith 703609 stored elements in Compressed Sparse Row format>"
      ]
     },
     "execution_count": 109,
     "metadata": {},
     "output_type": "execute_result"
    }
   ],
   "source": [
    "df_prep_2"
   ]
  }
 ],
 "metadata": {
  "kernelspec": {
   "display_name": "Python 3",
   "language": "python",
   "name": "python3"
  },
  "language_info": {
   "codemirror_mode": {
    "name": "ipython",
    "version": 3
   },
   "file_extension": ".py",
   "mimetype": "text/x-python",
   "name": "python",
   "nbconvert_exporter": "python",
   "pygments_lexer": "ipython3",
   "version": "3.8.3"
  }
 },
 "nbformat": 4,
 "nbformat_minor": 2
}
